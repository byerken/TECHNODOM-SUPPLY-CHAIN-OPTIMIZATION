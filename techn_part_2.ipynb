{
 "cells": [
  {
   "metadata": {},
   "cell_type": "raw",
   "source": "This is the part of the project, where I encountered Sales/Demand, Logistics & Inventory, Store & Product Master Data, in order to optimize Inventory of TECHNODOM, and based on the insights, analyze and implement proposal. Here I get the insights.",
   "id": "49c500758dd38225"
  },
  {
   "metadata": {},
   "cell_type": "code",
   "outputs": [],
   "execution_count": null,
   "source": [
    "#import all libraries\n",
    "\n",
    "import pandas as pd\n",
    "import numpy as np\n",
    "import matplotlib.pyplot as plt\n",
    "import seaborn as sns\n",
    "from sklearn.impute import SimpleImputer\n",
    "from xgboost import XGBRegressor, plot_importance\n",
    "from sklearn.metrics import mean_absolute_error, mean_squared_error\n",
    "from sklearn.model_selection import train_test_split\n",
    "import numpy as np"
   ],
   "id": "7d39071e89664bbb"
  },
  {
   "metadata": {
    "ExecuteTime": {
     "end_time": "2025-03-24T15:56:57.452471Z",
     "start_time": "2025-03-24T15:56:42.803282Z"
    }
   },
   "cell_type": "code",
   "source": [
    "# Upload 2022-2024 Sales data\n",
    "\n",
    "df1 = pd.read_csv(r\"C:\\Users\\User\\Desktop\\saal\\sales22-1.csv\", parse_dates=['Дата'], na_values='-')\n",
    "df2 = pd.read_csv(r\"C:\\Users\\User\\Desktop\\saal\\sales22-2.csv\", parse_dates=['Дата'], na_values='-')\n",
    "df3 = pd.read_csv(r\"C:\\Users\\User\\Desktop\\saal\\sales22-3.csv\", parse_dates=['Дата'], na_values='-', )\n",
    "df4 = pd.read_csv(r\"C:\\Users\\User\\Desktop\\saal\\sales23-1.csv\", parse_dates=['Дата'], na_values='-', )\n",
    "df5 = pd.read_csv(r\"C:\\Users\\User\\Desktop\\saal\\sales23-2.csv\", parse_dates=['Дата'], na_values='-')\n",
    "df6 = pd.read_csv(r\"C:\\Users\\User\\Desktop\\saal\\sales23-3.csv\", parse_dates=['Дата'], na_values='-')\n",
    "df7 = pd.read_csv(r\"C:\\Users\\User\\Desktop\\saal\\sales24-1.csv\", parse_dates=['Дата'], na_values='-')\n",
    "df8 = pd.read_csv(r\"C:\\Users\\User\\Desktop\\saal\\sales24-2.csv\", parse_dates=['Дата'], na_values='-', )\n",
    "df9 = pd.read_csv(r\"C:\\Users\\User\\Desktop\\saal\\sales24-3.csv\", parse_dates=['Дата'], na_values='-', )\n",
    "# Connect all to get Sales data in one DF\n",
    "df = pd.concat([df1, df2, df3, df4, df5, df6, df7, df8, df9], ignore_index=True)\n",
    "df.columns = df.columns.str.lower().str.replace(' ', '_')"
   ],
   "id": "9e469cb40f55fed0",
   "outputs": [],
   "execution_count": 3
  },
  {
   "metadata": {},
   "cell_type": "raw",
   "source": "Then I get Stock information, i.e. Supply",
   "id": "8571a43e9d47afb0"
  },
  {
   "metadata": {
    "ExecuteTime": {
     "end_time": "2025-03-24T15:58:29.968207Z",
     "start_time": "2025-03-24T15:57:55.457805Z"
    }
   },
   "cell_type": "code",
   "source": [
    "stock_2022_1 = pd.read_csv(r\"C:\\Users\\User\\Desktop\\Stock 2022 (1)\\Stock'22 (1).csv\", na_values='-')\n",
    "stock_2022_2 = pd.read_csv(r\"C:\\Users\\User\\Desktop\\Stock 2022 (1)\\Stock'22 (2).csv\", na_values='-')\n",
    "stock_2022_3 = pd.read_csv(r\"C:\\Users\\User\\Desktop\\Stock 2022 (2)\\Stock'22 (3).csv\", na_values='-')\n",
    "stock_2022_4 = pd.read_csv(r\"C:\\Users\\User\\Desktop\\Stock 2022 (2)\\Stock'22 (4).csv\", na_values='-')"
   ],
   "id": "69e70626d4fbef54",
   "outputs": [],
   "execution_count": 5
  },
  {
   "metadata": {
    "ExecuteTime": {
     "end_time": "2025-03-24T13:48:29.292828Z",
     "start_time": "2025-03-24T13:45:56.934786Z"
    }
   },
   "cell_type": "code",
   "source": [
    "stock_2023_1 = pd.read_csv(r\"C:\\Users\\User\\Desktop\\Stock 2023 (1)\\Stock'23 (1).csv\", na_values='-')\n",
    "stock_2023_2 = pd.read_csv(r\"C:\\Users\\User\\Desktop\\Stock 2023 (1)\\Stock'23 (2).csv\", na_values='-')\n",
    "stock_2023_3 = pd.read_csv(r\"C:\\Users\\User\\Desktop\\Stock 2023 (2)\\Stock'23 (3).csv\", na_values='-')\n",
    "stock_2023_4 = pd.read_csv(r\"C:\\Users\\User\\Desktop\\Stock 2023 (2)\\Stock'23 (4).csv\", na_values='-')"
   ],
   "id": "226338fdc98fa906",
   "outputs": [],
   "execution_count": 5
  },
  {
   "metadata": {
    "ExecuteTime": {
     "end_time": "2025-03-24T13:50:44.299545Z",
     "start_time": "2025-03-24T13:48:29.467832Z"
    }
   },
   "cell_type": "code",
   "source": [
    "stock_2024_1 = pd.read_csv(r\"C:\\Users\\User\\Desktop\\Stock 2024 (1)\\Stock'24 (1).csv\", na_values='-')\n",
    "stock_2024_2 = pd.read_csv(r\"C:\\Users\\User\\Desktop\\Stock 2024 (1)\\Stock'24 (2).csv\", na_values='-')\n",
    "stock_2024_3 = pd.read_csv(r\"C:\\Users\\User\\Desktop\\Stock 2024 (2)\\Stock'24 (3).csv\", na_values='-')\n",
    "stock_2024_4 = pd.read_csv(r\"C:\\Users\\User\\Desktop\\Stock 2024 (2)\\Stock'24 (4).csv\", na_values='-')"
   ],
   "id": "afe3c87741f7bbf1",
   "outputs": [],
   "execution_count": 6
  },
  {
   "metadata": {
    "ExecuteTime": {
     "end_time": "2025-03-24T14:08:49.665988Z",
     "start_time": "2025-03-24T14:08:49.603578Z"
    }
   },
   "cell_type": "code",
   "source": [
    "stock_2022 = pd.concat([stock_2022_1, stock_2022_2, stock_2022_3, stock_2022_4], ignore_index=True)\n",
    "stock_2023 = pd.concat([stock_2023_1, stock_2023_2, stock_2023_3, stock_2023_4], ignore_index=True)\n",
    "stock_2024 = pd.concat([stock_2024_1, stock_2024_2, stock_2024_3, stock_2024_4], ignore_index=True)"
   ],
   "id": "add133815a84fa94",
   "outputs": [
    {
     "ename": "MemoryError",
     "evalue": "Unable to allocate 3.52 GiB for an array with shape (9, 52470875) and data type object",
     "output_type": "error",
     "traceback": [
      "\u001B[31m---------------------------------------------------------------------------\u001B[39m",
      "\u001B[31mMemoryError\u001B[39m                               Traceback (most recent call last)",
      "\u001B[36mCell\u001B[39m\u001B[36m \u001B[39m\u001B[32mIn[25]\u001B[39m\u001B[32m, line 1\u001B[39m\n\u001B[32m----> \u001B[39m\u001B[32m1\u001B[39m stock_2022 = \u001B[43mpd\u001B[49m\u001B[43m.\u001B[49m\u001B[43mconcat\u001B[49m\u001B[43m(\u001B[49m\u001B[43m[\u001B[49m\u001B[43mstock_2022_1\u001B[49m\u001B[43m,\u001B[49m\u001B[43m \u001B[49m\u001B[43mstock_2022_2\u001B[49m\u001B[43m,\u001B[49m\u001B[43m \u001B[49m\u001B[43mstock_2022_3\u001B[49m\u001B[43m,\u001B[49m\u001B[43m \u001B[49m\u001B[43mstock_2022_4\u001B[49m\u001B[43m]\u001B[49m\u001B[43m,\u001B[49m\u001B[43m \u001B[49m\u001B[43mignore_index\u001B[49m\u001B[43m=\u001B[49m\u001B[38;5;28;43;01mTrue\u001B[39;49;00m\u001B[43m)\u001B[49m\n\u001B[32m      2\u001B[39m stock_2023 = pd.concat([stock_2023_1, stock_2023_2, stock_2023_3, stock_2023_4], ignore_index=\u001B[38;5;28;01mTrue\u001B[39;00m)\n\u001B[32m      3\u001B[39m stock_2024 = pd.concat([stock_2024_1, stock_2024_2, stock_2024_3, stock_2024_4], ignore_index=\u001B[38;5;28;01mTrue\u001B[39;00m)\n",
      "\u001B[36mFile \u001B[39m\u001B[32m~\\PycharmProjects\\PythonProject2\\.venv\\Lib\\site-packages\\pandas\\core\\reshape\\concat.py:393\u001B[39m, in \u001B[36mconcat\u001B[39m\u001B[34m(objs, axis, join, ignore_index, keys, levels, names, verify_integrity, sort, copy)\u001B[39m\n\u001B[32m    378\u001B[39m     copy = \u001B[38;5;28;01mFalse\u001B[39;00m\n\u001B[32m    380\u001B[39m op = _Concatenator(\n\u001B[32m    381\u001B[39m     objs,\n\u001B[32m    382\u001B[39m     axis=axis,\n\u001B[32m   (...)\u001B[39m\u001B[32m    390\u001B[39m     sort=sort,\n\u001B[32m    391\u001B[39m )\n\u001B[32m--> \u001B[39m\u001B[32m393\u001B[39m \u001B[38;5;28;01mreturn\u001B[39;00m \u001B[43mop\u001B[49m\u001B[43m.\u001B[49m\u001B[43mget_result\u001B[49m\u001B[43m(\u001B[49m\u001B[43m)\u001B[49m\n",
      "\u001B[36mFile \u001B[39m\u001B[32m~\\PycharmProjects\\PythonProject2\\.venv\\Lib\\site-packages\\pandas\\core\\reshape\\concat.py:682\u001B[39m, in \u001B[36m_Concatenator.get_result\u001B[39m\u001B[34m(self)\u001B[39m\n\u001B[32m    678\u001B[39m             indexers[ax] = obj_labels.get_indexer(new_labels)\n\u001B[32m    680\u001B[39m     mgrs_indexers.append((obj._mgr, indexers))\n\u001B[32m--> \u001B[39m\u001B[32m682\u001B[39m new_data = \u001B[43mconcatenate_managers\u001B[49m\u001B[43m(\u001B[49m\n\u001B[32m    683\u001B[39m \u001B[43m    \u001B[49m\u001B[43mmgrs_indexers\u001B[49m\u001B[43m,\u001B[49m\u001B[43m \u001B[49m\u001B[38;5;28;43mself\u001B[39;49m\u001B[43m.\u001B[49m\u001B[43mnew_axes\u001B[49m\u001B[43m,\u001B[49m\u001B[43m \u001B[49m\u001B[43mconcat_axis\u001B[49m\u001B[43m=\u001B[49m\u001B[38;5;28;43mself\u001B[39;49m\u001B[43m.\u001B[49m\u001B[43mbm_axis\u001B[49m\u001B[43m,\u001B[49m\u001B[43m \u001B[49m\u001B[43mcopy\u001B[49m\u001B[43m=\u001B[49m\u001B[38;5;28;43mself\u001B[39;49m\u001B[43m.\u001B[49m\u001B[43mcopy\u001B[49m\n\u001B[32m    684\u001B[39m \u001B[43m\u001B[49m\u001B[43m)\u001B[49m\n\u001B[32m    685\u001B[39m \u001B[38;5;28;01mif\u001B[39;00m \u001B[38;5;129;01mnot\u001B[39;00m \u001B[38;5;28mself\u001B[39m.copy \u001B[38;5;129;01mand\u001B[39;00m \u001B[38;5;129;01mnot\u001B[39;00m using_copy_on_write():\n\u001B[32m    686\u001B[39m     new_data._consolidate_inplace()\n",
      "\u001B[36mFile \u001B[39m\u001B[32m~\\PycharmProjects\\PythonProject2\\.venv\\Lib\\site-packages\\pandas\\core\\internals\\concat.py:177\u001B[39m, in \u001B[36mconcatenate_managers\u001B[39m\u001B[34m(mgrs_indexers, axes, concat_axis, copy)\u001B[39m\n\u001B[32m    167\u001B[39m vals = [ju.block.values \u001B[38;5;28;01mfor\u001B[39;00m ju \u001B[38;5;129;01min\u001B[39;00m join_units]\n\u001B[32m    169\u001B[39m \u001B[38;5;28;01mif\u001B[39;00m \u001B[38;5;129;01mnot\u001B[39;00m blk.is_extension:\n\u001B[32m    170\u001B[39m     \u001B[38;5;66;03m# _is_uniform_join_units ensures a single dtype, so\u001B[39;00m\n\u001B[32m    171\u001B[39m     \u001B[38;5;66;03m#  we can use np.concatenate, which is more performant\u001B[39;00m\n\u001B[32m   (...)\u001B[39m\u001B[32m    175\u001B[39m     \u001B[38;5;66;03m# expected \"Union[_SupportsArray[dtype[Any]],\u001B[39;00m\n\u001B[32m    176\u001B[39m     \u001B[38;5;66;03m# _NestedSequence[_SupportsArray[dtype[Any]]]]\"\u001B[39;00m\n\u001B[32m--> \u001B[39m\u001B[32m177\u001B[39m     values = \u001B[43mnp\u001B[49m\u001B[43m.\u001B[49m\u001B[43mconcatenate\u001B[49m\u001B[43m(\u001B[49m\u001B[43mvals\u001B[49m\u001B[43m,\u001B[49m\u001B[43m \u001B[49m\u001B[43maxis\u001B[49m\u001B[43m=\u001B[49m\u001B[32;43m1\u001B[39;49m\u001B[43m)\u001B[49m  \u001B[38;5;66;03m# type: ignore[arg-type]\u001B[39;00m\n\u001B[32m    178\u001B[39m \u001B[38;5;28;01melif\u001B[39;00m is_1d_only_ea_dtype(blk.dtype):\n\u001B[32m    179\u001B[39m     \u001B[38;5;66;03m# TODO(EA2D): special-casing not needed with 2D EAs\u001B[39;00m\n\u001B[32m    180\u001B[39m     values = concat_compat(vals, axis=\u001B[32m0\u001B[39m, ea_compat_axis=\u001B[38;5;28;01mTrue\u001B[39;00m)\n",
      "\u001B[31mMemoryError\u001B[39m: Unable to allocate 3.52 GiB for an array with shape (9, 52470875) and data type object"
     ]
    }
   ],
   "execution_count": 25
  },
  {
   "metadata": {
    "ExecuteTime": {
     "end_time": "2025-03-24T14:10:09.575778Z",
     "start_time": "2025-03-24T14:10:09.511631Z"
    }
   },
   "cell_type": "code",
   "source": "stock = pd.concat([stock_2022, stock_2023, stock_2024], ignore_index=True)",
   "id": "37060b65444c46e2",
   "outputs": [
    {
     "ename": "MemoryError",
     "evalue": "Unable to allocate 10.3 GiB for an array with shape (9, 153829344) and data type object",
     "output_type": "error",
     "traceback": [
      "\u001B[31m---------------------------------------------------------------------------\u001B[39m",
      "\u001B[31mMemoryError\u001B[39m                               Traceback (most recent call last)",
      "\u001B[36mCell\u001B[39m\u001B[36m \u001B[39m\u001B[32mIn[33]\u001B[39m\u001B[32m, line 1\u001B[39m\n\u001B[32m----> \u001B[39m\u001B[32m1\u001B[39m stock = \u001B[43mpd\u001B[49m\u001B[43m.\u001B[49m\u001B[43mconcat\u001B[49m\u001B[43m(\u001B[49m\u001B[43m[\u001B[49m\u001B[43mstock_2022\u001B[49m\u001B[43m,\u001B[49m\u001B[43m \u001B[49m\u001B[43mstock_2023\u001B[49m\u001B[43m,\u001B[49m\u001B[43m \u001B[49m\u001B[43mstock_2024\u001B[49m\u001B[43m]\u001B[49m\u001B[43m,\u001B[49m\u001B[43m \u001B[49m\u001B[43mignore_index\u001B[49m\u001B[43m=\u001B[49m\u001B[38;5;28;43;01mTrue\u001B[39;49;00m\u001B[43m)\u001B[49m\n",
      "\u001B[36mFile \u001B[39m\u001B[32m~\\PycharmProjects\\PythonProject2\\.venv\\Lib\\site-packages\\pandas\\core\\reshape\\concat.py:393\u001B[39m, in \u001B[36mconcat\u001B[39m\u001B[34m(objs, axis, join, ignore_index, keys, levels, names, verify_integrity, sort, copy)\u001B[39m\n\u001B[32m    378\u001B[39m     copy = \u001B[38;5;28;01mFalse\u001B[39;00m\n\u001B[32m    380\u001B[39m op = _Concatenator(\n\u001B[32m    381\u001B[39m     objs,\n\u001B[32m    382\u001B[39m     axis=axis,\n\u001B[32m   (...)\u001B[39m\u001B[32m    390\u001B[39m     sort=sort,\n\u001B[32m    391\u001B[39m )\n\u001B[32m--> \u001B[39m\u001B[32m393\u001B[39m \u001B[38;5;28;01mreturn\u001B[39;00m \u001B[43mop\u001B[49m\u001B[43m.\u001B[49m\u001B[43mget_result\u001B[49m\u001B[43m(\u001B[49m\u001B[43m)\u001B[49m\n",
      "\u001B[36mFile \u001B[39m\u001B[32m~\\PycharmProjects\\PythonProject2\\.venv\\Lib\\site-packages\\pandas\\core\\reshape\\concat.py:682\u001B[39m, in \u001B[36m_Concatenator.get_result\u001B[39m\u001B[34m(self)\u001B[39m\n\u001B[32m    678\u001B[39m             indexers[ax] = obj_labels.get_indexer(new_labels)\n\u001B[32m    680\u001B[39m     mgrs_indexers.append((obj._mgr, indexers))\n\u001B[32m--> \u001B[39m\u001B[32m682\u001B[39m new_data = \u001B[43mconcatenate_managers\u001B[49m\u001B[43m(\u001B[49m\n\u001B[32m    683\u001B[39m \u001B[43m    \u001B[49m\u001B[43mmgrs_indexers\u001B[49m\u001B[43m,\u001B[49m\u001B[43m \u001B[49m\u001B[38;5;28;43mself\u001B[39;49m\u001B[43m.\u001B[49m\u001B[43mnew_axes\u001B[49m\u001B[43m,\u001B[49m\u001B[43m \u001B[49m\u001B[43mconcat_axis\u001B[49m\u001B[43m=\u001B[49m\u001B[38;5;28;43mself\u001B[39;49m\u001B[43m.\u001B[49m\u001B[43mbm_axis\u001B[49m\u001B[43m,\u001B[49m\u001B[43m \u001B[49m\u001B[43mcopy\u001B[49m\u001B[43m=\u001B[49m\u001B[38;5;28;43mself\u001B[39;49m\u001B[43m.\u001B[49m\u001B[43mcopy\u001B[49m\n\u001B[32m    684\u001B[39m \u001B[43m\u001B[49m\u001B[43m)\u001B[49m\n\u001B[32m    685\u001B[39m \u001B[38;5;28;01mif\u001B[39;00m \u001B[38;5;129;01mnot\u001B[39;00m \u001B[38;5;28mself\u001B[39m.copy \u001B[38;5;129;01mand\u001B[39;00m \u001B[38;5;129;01mnot\u001B[39;00m using_copy_on_write():\n\u001B[32m    686\u001B[39m     new_data._consolidate_inplace()\n",
      "\u001B[36mFile \u001B[39m\u001B[32m~\\PycharmProjects\\PythonProject2\\.venv\\Lib\\site-packages\\pandas\\core\\internals\\concat.py:177\u001B[39m, in \u001B[36mconcatenate_managers\u001B[39m\u001B[34m(mgrs_indexers, axes, concat_axis, copy)\u001B[39m\n\u001B[32m    167\u001B[39m vals = [ju.block.values \u001B[38;5;28;01mfor\u001B[39;00m ju \u001B[38;5;129;01min\u001B[39;00m join_units]\n\u001B[32m    169\u001B[39m \u001B[38;5;28;01mif\u001B[39;00m \u001B[38;5;129;01mnot\u001B[39;00m blk.is_extension:\n\u001B[32m    170\u001B[39m     \u001B[38;5;66;03m# _is_uniform_join_units ensures a single dtype, so\u001B[39;00m\n\u001B[32m    171\u001B[39m     \u001B[38;5;66;03m#  we can use np.concatenate, which is more performant\u001B[39;00m\n\u001B[32m   (...)\u001B[39m\u001B[32m    175\u001B[39m     \u001B[38;5;66;03m# expected \"Union[_SupportsArray[dtype[Any]],\u001B[39;00m\n\u001B[32m    176\u001B[39m     \u001B[38;5;66;03m# _NestedSequence[_SupportsArray[dtype[Any]]]]\"\u001B[39;00m\n\u001B[32m--> \u001B[39m\u001B[32m177\u001B[39m     values = \u001B[43mnp\u001B[49m\u001B[43m.\u001B[49m\u001B[43mconcatenate\u001B[49m\u001B[43m(\u001B[49m\u001B[43mvals\u001B[49m\u001B[43m,\u001B[49m\u001B[43m \u001B[49m\u001B[43maxis\u001B[49m\u001B[43m=\u001B[49m\u001B[32;43m1\u001B[39;49m\u001B[43m)\u001B[49m  \u001B[38;5;66;03m# type: ignore[arg-type]\u001B[39;00m\n\u001B[32m    178\u001B[39m \u001B[38;5;28;01melif\u001B[39;00m is_1d_only_ea_dtype(blk.dtype):\n\u001B[32m    179\u001B[39m     \u001B[38;5;66;03m# TODO(EA2D): special-casing not needed with 2D EAs\u001B[39;00m\n\u001B[32m    180\u001B[39m     values = concat_compat(vals, axis=\u001B[32m0\u001B[39m, ea_compat_axis=\u001B[38;5;28;01mTrue\u001B[39;00m)\n",
      "\u001B[31mMemoryError\u001B[39m: Unable to allocate 10.3 GiB for an array with shape (9, 153829344) and data type object"
     ]
    }
   ],
   "execution_count": 33
  },
  {
   "metadata": {
    "ExecuteTime": {
     "end_time": "2025-03-24T15:59:09.153149Z",
     "start_time": "2025-03-24T15:59:07.453583Z"
    }
   },
   "cell_type": "code",
   "source": [
    "stock_2022.group.unique()\n",
    "stock_2022['date'] = pd.to_datetime(stock_2022['date'])"
   ],
   "id": "da171853022a969b",
   "outputs": [],
   "execution_count": 7
  },
  {
   "metadata": {
    "ExecuteTime": {
     "end_time": "2025-03-25T03:24:48.895708Z",
     "start_time": "2025-03-25T03:24:48.663660Z"
    }
   },
   "cell_type": "code",
   "source": "all_groups = stock_2022.group.unique()",
   "id": "459ee72d5372ceb3",
   "outputs": [
    {
     "ename": "NameError",
     "evalue": "name 'stock_2022' is not defined",
     "output_type": "error",
     "traceback": [
      "\u001B[31m---------------------------------------------------------------------------\u001B[39m",
      "\u001B[31mNameError\u001B[39m                                 Traceback (most recent call last)",
      "\u001B[36mCell\u001B[39m\u001B[36m \u001B[39m\u001B[32mIn[43]\u001B[39m\u001B[32m, line 1\u001B[39m\n\u001B[32m----> \u001B[39m\u001B[32m1\u001B[39m all_groups = \u001B[43mstock_2022\u001B[49m.group.unique()\n",
      "\u001B[31mNameError\u001B[39m: name 'stock_2022' is not defined"
     ]
    }
   ],
   "execution_count": 43
  },
  {
   "metadata": {
    "ExecuteTime": {
     "end_time": "2025-03-24T15:57:14.976514Z",
     "start_time": "2025-03-24T15:57:14.537612Z"
    }
   },
   "cell_type": "code",
   "source": [
    "for group in all_groups:\n",
    "    # Process 2022 data\n",
    "    quant_2022 = (\n",
    "        stock_2022[stock_2022['group'] == group]\n",
    "        .groupby('date')['quant'].sum()  # Single groupby on date only\n",
    "        .reset_index()  # Clean reset (no MultiIndex issues)\n",
    "        .assign(year=2022)  # Optional: tag with year\n",
    "    )\n",
    "\n",
    "    # Process 2023 data (same approach)\n",
    "    quant_2023 = (\n",
    "        stock_2023[stock_2023['group'] == group]\n",
    "        .groupby('date')['quant'].sum()\n",
    "        .reset_index()\n",
    "        .assign(year=2023)\n",
    "    )\n",
    "\n",
    "    # Process 2024 data\n",
    "    quant_2024 = (\n",
    "        stock_2024[stock_2024['group'] == group]\n",
    "        .groupby('date')['quant'].sum()\n",
    "        .reset_index()\n",
    "        .assign(year=2024)\n",
    "    )\n",
    "\n",
    "    # Combine all years\n",
    "    quant_combined = pd.concat([quant_2022, quant_2023, quant_2024], ignore_index=True)\n",
    "\n",
    "    # Plotting\n",
    "    plt.figure(figsize=(10, 4))\n",
    "    plt.plot(quant_combined['date'], quant_combined['quant'])\n",
    "    plt.title(f'Quantity of {group} across all warehouses per day')\n",
    "    plt.xlabel('Date')\n",
    "    plt.ylabel('Quantity')\n",
    "    plt.savefig(f'quant_in_warehouses_of{group}.png')"
   ],
   "id": "337bef0fdefa006e",
   "outputs": [
    {
     "ename": "NameError",
     "evalue": "name 'stock_2022' is not defined",
     "output_type": "error",
     "traceback": [
      "\u001B[31m---------------------------------------------------------------------------\u001B[39m",
      "\u001B[31mNameError\u001B[39m                                 Traceback (most recent call last)",
      "\u001B[36mCell\u001B[39m\u001B[36m \u001B[39m\u001B[32mIn[4]\u001B[39m\u001B[32m, line 1\u001B[39m\n\u001B[32m----> \u001B[39m\u001B[32m1\u001B[39m \u001B[38;5;28;01mfor\u001B[39;00m group \u001B[38;5;129;01min\u001B[39;00m \u001B[43mstock_2022\u001B[49m.group.unique():\n\u001B[32m      2\u001B[39m     \u001B[38;5;66;03m# Process 2022 data\u001B[39;00m\n\u001B[32m      3\u001B[39m     quant_2022 = (\n\u001B[32m      4\u001B[39m         stock_2022[stock_2022[\u001B[33m'\u001B[39m\u001B[33mgroup\u001B[39m\u001B[33m'\u001B[39m] == group]\n\u001B[32m      5\u001B[39m         .groupby(\u001B[33m'\u001B[39m\u001B[33mdate\u001B[39m\u001B[33m'\u001B[39m)[\u001B[33m'\u001B[39m\u001B[33mquant\u001B[39m\u001B[33m'\u001B[39m].sum()  \u001B[38;5;66;03m# Single groupby on date only\u001B[39;00m\n\u001B[32m      6\u001B[39m         .reset_index()  \u001B[38;5;66;03m# Clean reset (no MultiIndex issues)\u001B[39;00m\n\u001B[32m      7\u001B[39m         .assign(year=\u001B[32m2022\u001B[39m)  \u001B[38;5;66;03m# Optional: tag with year\u001B[39;00m\n\u001B[32m      8\u001B[39m     )\n\u001B[32m     10\u001B[39m     \u001B[38;5;66;03m# Process 2023 data (same approach)\u001B[39;00m\n",
      "\u001B[31mNameError\u001B[39m: name 'stock_2022' is not defined"
     ]
    }
   ],
   "execution_count": 4
  },
  {
   "metadata": {
    "ExecuteTime": {
     "end_time": "2025-03-24T16:00:44.531432Z",
     "start_time": "2025-03-24T16:00:22.821394Z"
    }
   },
   "cell_type": "code",
   "source": "sprav = pd.read_excel(r\"C:\\Users\\User\\Desktop\\Справочник товара.xlsx\", na_values='-')",
   "id": "b7994e83f043b5e0",
   "outputs": [],
   "execution_count": 11
  },
  {
   "metadata": {
    "ExecuteTime": {
     "end_time": "2025-03-24T14:43:12.493002Z",
     "start_time": "2025-03-24T14:43:12.484676Z"
    }
   },
   "cell_type": "code",
   "source": "sprav.head()",
   "id": "46ad43ab1ad7600f",
   "outputs": [
    {
     "data": {
      "text/plain": [
       "  directortxt       grouptxt                       categtxt zdbrandstxt  \\\n",
       "0          ТС  Аксессуары IT  AccComp 3D Ручки и аксессуары      Dewang   \n",
       "1          ТС  Аксессуары IT  AccComp 3D Ручки и аксессуары      Dewang   \n",
       "2          ТС  Аксессуары IT  AccComp 3D Ручки и аксессуары      Dewang   \n",
       "3          ТС  Аксессуары IT  AccComp 3D Ручки и аксессуары      Dewang   \n",
       "4          ТС  Аксессуары IT  AccComp 3D Ручки и аксессуары      Dewang   \n",
       "\n",
       "                    item_id  \\\n",
       "0  gP2QGw4P74wR52Xm4WSCaQ==   \n",
       "1  gP2QGw4P74wR52Xm4WSCaw==   \n",
       "2  gP2QGw4P74wR52Xm4WSCbQ==   \n",
       "3  gP2QGw4P74wR52Xm4WSCbw==   \n",
       "4  gP2QGw4P74wR52Xm4WSCcQ==   \n",
       "\n",
       "                                               Товар  webcode  \n",
       "0  3D ручка Dewang generation 4, картридж ABS/PLA...  55802.0  \n",
       "1  3D ручка Dewang generation 4 v2, картридж PCL,...  55803.0  \n",
       "2  3D ручка Dewang generation 4 v2, картридж PCL,...  55804.0  \n",
       "3                        Картридж ABS roll/20m black  55805.0  \n",
       "4                      Картридж ABS linear/10m black  55806.0  "
      ],
      "text/html": [
       "<div>\n",
       "<style scoped>\n",
       "    .dataframe tbody tr th:only-of-type {\n",
       "        vertical-align: middle;\n",
       "    }\n",
       "\n",
       "    .dataframe tbody tr th {\n",
       "        vertical-align: top;\n",
       "    }\n",
       "\n",
       "    .dataframe thead th {\n",
       "        text-align: right;\n",
       "    }\n",
       "</style>\n",
       "<table border=\"1\" class=\"dataframe\">\n",
       "  <thead>\n",
       "    <tr style=\"text-align: right;\">\n",
       "      <th></th>\n",
       "      <th>directortxt</th>\n",
       "      <th>grouptxt</th>\n",
       "      <th>categtxt</th>\n",
       "      <th>zdbrandstxt</th>\n",
       "      <th>item_id</th>\n",
       "      <th>Товар</th>\n",
       "      <th>webcode</th>\n",
       "    </tr>\n",
       "  </thead>\n",
       "  <tbody>\n",
       "    <tr>\n",
       "      <th>0</th>\n",
       "      <td>ТС</td>\n",
       "      <td>Аксессуары IT</td>\n",
       "      <td>AccComp 3D Ручки и аксессуары</td>\n",
       "      <td>Dewang</td>\n",
       "      <td>gP2QGw4P74wR52Xm4WSCaQ==</td>\n",
       "      <td>3D ручка Dewang generation 4, картридж ABS/PLA...</td>\n",
       "      <td>55802.0</td>\n",
       "    </tr>\n",
       "    <tr>\n",
       "      <th>1</th>\n",
       "      <td>ТС</td>\n",
       "      <td>Аксессуары IT</td>\n",
       "      <td>AccComp 3D Ручки и аксессуары</td>\n",
       "      <td>Dewang</td>\n",
       "      <td>gP2QGw4P74wR52Xm4WSCaw==</td>\n",
       "      <td>3D ручка Dewang generation 4 v2, картридж PCL,...</td>\n",
       "      <td>55803.0</td>\n",
       "    </tr>\n",
       "    <tr>\n",
       "      <th>2</th>\n",
       "      <td>ТС</td>\n",
       "      <td>Аксессуары IT</td>\n",
       "      <td>AccComp 3D Ручки и аксессуары</td>\n",
       "      <td>Dewang</td>\n",
       "      <td>gP2QGw4P74wR52Xm4WSCbQ==</td>\n",
       "      <td>3D ручка Dewang generation 4 v2, картридж PCL,...</td>\n",
       "      <td>55804.0</td>\n",
       "    </tr>\n",
       "    <tr>\n",
       "      <th>3</th>\n",
       "      <td>ТС</td>\n",
       "      <td>Аксессуары IT</td>\n",
       "      <td>AccComp 3D Ручки и аксессуары</td>\n",
       "      <td>Dewang</td>\n",
       "      <td>gP2QGw4P74wR52Xm4WSCbw==</td>\n",
       "      <td>Картридж ABS roll/20m black</td>\n",
       "      <td>55805.0</td>\n",
       "    </tr>\n",
       "    <tr>\n",
       "      <th>4</th>\n",
       "      <td>ТС</td>\n",
       "      <td>Аксессуары IT</td>\n",
       "      <td>AccComp 3D Ручки и аксессуары</td>\n",
       "      <td>Dewang</td>\n",
       "      <td>gP2QGw4P74wR52Xm4WSCcQ==</td>\n",
       "      <td>Картридж ABS linear/10m black</td>\n",
       "      <td>55806.0</td>\n",
       "    </tr>\n",
       "  </tbody>\n",
       "</table>\n",
       "</div>"
      ]
     },
     "execution_count": 52,
     "metadata": {},
     "output_type": "execute_result"
    }
   ],
   "execution_count": 52
  },
  {
   "metadata": {
    "ExecuteTime": {
     "end_time": "2025-03-24T16:00:46.490572Z",
     "start_time": "2025-03-24T16:00:45.381158Z"
    }
   },
   "cell_type": "code",
   "source": [
    "# mapping item_id to group\n",
    "group_mapping = sprav.set_index('item_id')['grouptxt'].to_dict()\n",
    "df['group'] = df['item_id'].map(group_mapping)\n",
    "# For rows where item_id wasn't found in sprav, you might want to handle them:\n",
    "df['group'] = df['group'].fillna('Unknown')  # or whatever default you prefer"
   ],
   "id": "1056d44a8c7ca61e",
   "outputs": [],
   "execution_count": 12
  },
  {
   "metadata": {
    "ExecuteTime": {
     "end_time": "2025-03-24T15:49:42.657587Z",
     "start_time": "2025-03-24T15:49:39.467785Z"
    }
   },
   "cell_type": "code",
   "source": [
    "for group in all_groups:\n",
    "    plt.figure(figsize=(10, 4))\n",
    "    kaif = df[df['group'] == group].groupby('дата')['quantity'].sum()\n",
    "    kaif.plot(color='red')\n",
    "    plt.title(f'Quantity of {group} sold in stores')\n",
    "    plt.xlabel('Date')\n",
    "    plt.ylabel('Quantity')\n",
    "    plt.savefig(f'quantity_of_{group}.png')##demand"
   ],
   "id": "67a3528357d76ed0",
   "outputs": [
    {
     "ename": "KeyboardInterrupt",
     "evalue": "",
     "output_type": "error",
     "traceback": [
      "\u001B[31m---------------------------------------------------------------------------\u001B[39m",
      "\u001B[31mKeyboardInterrupt\u001B[39m                         Traceback (most recent call last)",
      "\u001B[36mCell\u001B[39m\u001B[36m \u001B[39m\u001B[32mIn[93]\u001B[39m\u001B[32m, line 1\u001B[39m\n\u001B[32m----> \u001B[39m\u001B[32m1\u001B[39m \u001B[38;5;28;01mfor\u001B[39;00m group \u001B[38;5;129;01min\u001B[39;00m \u001B[43mstock_2022\u001B[49m\u001B[43m.\u001B[49m\u001B[43mgroup\u001B[49m\u001B[43m.\u001B[49m\u001B[43munique\u001B[49m\u001B[43m(\u001B[49m\u001B[43m)\u001B[49m:\n\u001B[32m      2\u001B[39m     plt.figure(figsize=(\u001B[32m10\u001B[39m, \u001B[32m4\u001B[39m))\n\u001B[32m      3\u001B[39m     kaif = df[df[\u001B[33m'\u001B[39m\u001B[33mgroup\u001B[39m\u001B[33m'\u001B[39m] == group].groupby(\u001B[33m'\u001B[39m\u001B[33mдата\u001B[39m\u001B[33m'\u001B[39m)[\u001B[33m'\u001B[39m\u001B[33mquantity\u001B[39m\u001B[33m'\u001B[39m].sum()\n",
      "\u001B[36mFile \u001B[39m\u001B[32m~\\PycharmProjects\\PythonProject2\\.venv\\Lib\\site-packages\\pandas\\core\\series.py:2397\u001B[39m, in \u001B[36mSeries.unique\u001B[39m\u001B[34m(self)\u001B[39m\n\u001B[32m   2334\u001B[39m \u001B[38;5;28;01mdef\u001B[39;00m\u001B[38;5;250m \u001B[39m\u001B[34munique\u001B[39m(\u001B[38;5;28mself\u001B[39m) -> ArrayLike:  \u001B[38;5;66;03m# pylint: disable=useless-parent-delegation\u001B[39;00m\n\u001B[32m   2335\u001B[39m \u001B[38;5;250m    \u001B[39m\u001B[33;03m\"\"\"\u001B[39;00m\n\u001B[32m   2336\u001B[39m \u001B[33;03m    Return unique values of Series object.\u001B[39;00m\n\u001B[32m   2337\u001B[39m \n\u001B[32m   (...)\u001B[39m\u001B[32m   2395\u001B[39m \u001B[33;03m    Categories (3, object): ['a' < 'b' < 'c']\u001B[39;00m\n\u001B[32m   2396\u001B[39m \u001B[33;03m    \"\"\"\u001B[39;00m\n\u001B[32m-> \u001B[39m\u001B[32m2397\u001B[39m     \u001B[38;5;28;01mreturn\u001B[39;00m \u001B[38;5;28;43msuper\u001B[39;49m\u001B[43m(\u001B[49m\u001B[43m)\u001B[49m\u001B[43m.\u001B[49m\u001B[43munique\u001B[49m\u001B[43m(\u001B[49m\u001B[43m)\u001B[49m\n",
      "\u001B[36mFile \u001B[39m\u001B[32m~\\PycharmProjects\\PythonProject2\\.venv\\Lib\\site-packages\\pandas\\core\\base.py:1025\u001B[39m, in \u001B[36mIndexOpsMixin.unique\u001B[39m\u001B[34m(self)\u001B[39m\n\u001B[32m   1023\u001B[39m     result = values.unique()\n\u001B[32m   1024\u001B[39m \u001B[38;5;28;01melse\u001B[39;00m:\n\u001B[32m-> \u001B[39m\u001B[32m1025\u001B[39m     result = \u001B[43malgorithms\u001B[49m\u001B[43m.\u001B[49m\u001B[43munique1d\u001B[49m\u001B[43m(\u001B[49m\u001B[43mvalues\u001B[49m\u001B[43m)\u001B[49m\n\u001B[32m   1026\u001B[39m \u001B[38;5;28;01mreturn\u001B[39;00m result\n",
      "\u001B[36mFile \u001B[39m\u001B[32m~\\PycharmProjects\\PythonProject2\\.venv\\Lib\\site-packages\\pandas\\core\\algorithms.py:401\u001B[39m, in \u001B[36munique\u001B[39m\u001B[34m(values)\u001B[39m\n\u001B[32m    307\u001B[39m \u001B[38;5;28;01mdef\u001B[39;00m\u001B[38;5;250m \u001B[39m\u001B[34munique\u001B[39m(values):\n\u001B[32m    308\u001B[39m \u001B[38;5;250m    \u001B[39m\u001B[33;03m\"\"\"\u001B[39;00m\n\u001B[32m    309\u001B[39m \u001B[33;03m    Return unique values based on a hash table.\u001B[39;00m\n\u001B[32m    310\u001B[39m \n\u001B[32m   (...)\u001B[39m\u001B[32m    399\u001B[39m \u001B[33;03m    array([('a', 'b'), ('b', 'a'), ('a', 'c')], dtype=object)\u001B[39;00m\n\u001B[32m    400\u001B[39m \u001B[33;03m    \"\"\"\u001B[39;00m\n\u001B[32m--> \u001B[39m\u001B[32m401\u001B[39m     \u001B[38;5;28;01mreturn\u001B[39;00m \u001B[43munique_with_mask\u001B[49m\u001B[43m(\u001B[49m\u001B[43mvalues\u001B[49m\u001B[43m)\u001B[49m\n",
      "\u001B[36mFile \u001B[39m\u001B[32m~\\PycharmProjects\\PythonProject2\\.venv\\Lib\\site-packages\\pandas\\core\\algorithms.py:440\u001B[39m, in \u001B[36munique_with_mask\u001B[39m\u001B[34m(values, mask)\u001B[39m\n\u001B[32m    438\u001B[39m table = hashtable(\u001B[38;5;28mlen\u001B[39m(values))\n\u001B[32m    439\u001B[39m \u001B[38;5;28;01mif\u001B[39;00m mask \u001B[38;5;129;01mis\u001B[39;00m \u001B[38;5;28;01mNone\u001B[39;00m:\n\u001B[32m--> \u001B[39m\u001B[32m440\u001B[39m     uniques = \u001B[43mtable\u001B[49m\u001B[43m.\u001B[49m\u001B[43munique\u001B[49m\u001B[43m(\u001B[49m\u001B[43mvalues\u001B[49m\u001B[43m)\u001B[49m\n\u001B[32m    441\u001B[39m     uniques = _reconstruct_data(uniques, original.dtype, original)\n\u001B[32m    442\u001B[39m     \u001B[38;5;28;01mreturn\u001B[39;00m uniques\n",
      "\u001B[31mKeyboardInterrupt\u001B[39m: "
     ]
    }
   ],
   "execution_count": 93
  },
  {
   "metadata": {
    "ExecuteTime": {
     "end_time": "2025-03-24T16:12:15.942414Z",
     "start_time": "2025-03-24T16:12:15.938894Z"
    }
   },
   "cell_type": "code",
   "source": "z = 1.96 ## took 0.05 confidence level",
   "id": "34e8cad4a27e55e9",
   "outputs": [],
   "execution_count": 34
  },
  {
   "metadata": {
    "ExecuteTime": {
     "end_time": "2025-03-24T16:07:47.849483Z",
     "start_time": "2025-03-24T16:07:47.259870Z"
    }
   },
   "cell_type": "code",
   "source": "karta_of_lead_time = pd.read_excel(r\"C:\\Users\\User\\Desktop\\Карта питания с Lead time.xlsx\", na_values='-')",
   "id": "55451f219b9b8a91",
   "outputs": [],
   "execution_count": 24
  },
  {
   "metadata": {
    "ExecuteTime": {
     "end_time": "2025-03-24T16:37:34.075261Z",
     "start_time": "2025-03-24T16:37:28.593492Z"
    }
   },
   "cell_type": "code",
   "source": [
    "# 1. Calculate average lead time per group\n",
    "karta = karta_of_lead_time.groupby(['Group'])['Lead time, дни'].agg(['mean', 'std']).reset_index()\n",
    "karta.columns = ['group', 'avg_lead_time', 'lead_time_std']\n",
    "\n",
    "# 2. Initialize DataFrames to store results\n",
    "results = []\n",
    "\n",
    "# 3. Calculate safety stock and ROP for each group\n",
    "for group in stock_2022_1['group'].unique():\n",
    "    # Get demand data for the group\n",
    "    group_demand = df[df['group'] == group].groupby('дата')['quantity'].sum().reset_index()\n",
    "\n",
    "    # Calculate demand statistics (last 180 days)\n",
    "    last_180_days = group_demand.iloc[-180:]\n",
    "    avg_daily_demand = last_180_days['quantity'].mean()\n",
    "    demand_std = last_180_days['quantity'].std()\n",
    "\n",
    "    # Get lead time stats\n",
    "    lead_time_stats = karta[karta['group'] == group]\n",
    "    if not lead_time_stats.empty:\n",
    "        avg_lt = lead_time_stats['avg_lead_time'].values[0]\n",
    "        lt_std = lead_time_stats['lead_time_std'].values[0]\n",
    "\n",
    "        # Calculate safety stock\n",
    "        safety_stock = z * np.sqrt(\n",
    "            (demand_std**2 * avg_lt) +\n",
    "            (lt_std**2 * avg_daily_demand**2)\n",
    "        )\n",
    "\n",
    "        # Calculate Reorder Point (ROP)\n",
    "        reorder_point = (avg_daily_demand * avg_lt) + safety_stock\n",
    "\n",
    "        results.append({\n",
    "            'group': group,\n",
    "            'avg_daily_demand': avg_daily_demand,\n",
    "            'demand_std': demand_std,\n",
    "            'avg_lead_time': avg_lt,\n",
    "            'lead_time_std': lt_std,\n",
    "            'safety_stock': safety_stock,\n",
    "            'reorder_point': reorder_point\n",
    "        })\n",
    "\n",
    "# 4. Convert to DataFrame and format output\n",
    "result_df = pd.DataFrame(results)\n",
    "result_df = result_df.round({\n",
    "    'avg_daily_demand': 1,\n",
    "    'demand_std': 1,\n",
    "    'safety_stock': 0,\n",
    "    'reorder_point': 0\n",
    "})\n",
    "\n",
    "# 5. Display key columns\n",
    "print(result_df[['group', 'safety_stock', 'reorder_point']])\n",
    "result_df.to_excel('results.xlsx', index=False)"
   ],
   "id": "5f1298a5e00498c",
   "outputs": [
    {
     "name": "stdout",
     "output_type": "stream",
     "text": [
      "                                group  safety_stock  reorder_point\n",
      "0                Кухонная МБТ_напитки        1048.0         2017.0\n",
      "1                            Пылесосы         810.0         1541.0\n",
      "2                  Мобильные телефоны        4613.0         8932.0\n",
      "3                          Телевизоры         646.0         1181.0\n",
      "4                Встраиваемая техника         642.0         1214.0\n",
      "5                    Аудио устройства         782.0         1384.0\n",
      "6                    Кухонная МБТ_хол         899.0         1715.0\n",
      "7                        Холодильники         558.0         1058.0\n",
      "8                            Наушники        1111.0         2132.0\n",
      "9                        Домашняя МБТ         870.0         1667.0\n",
      "10                  Стиральные машины         680.0         1297.0\n",
      "11  Встраиваемые посудомоечные машины         121.0          213.0\n",
      "12                       Морозильники         351.0          656.0\n",
      "13                           Ноутбуки         666.0         1268.0\n",
      "14                       Кондиционеры         282.0          513.0\n"
     ]
    }
   ],
   "execution_count": 42
  }
 ],
 "metadata": {
  "kernelspec": {
   "display_name": "Python 3",
   "language": "python",
   "name": "python3"
  },
  "language_info": {
   "codemirror_mode": {
    "name": "ipython",
    "version": 2
   },
   "file_extension": ".py",
   "mimetype": "text/x-python",
   "name": "python",
   "nbconvert_exporter": "python",
   "pygments_lexer": "ipython2",
   "version": "2.7.6"
  }
 },
 "nbformat": 4,
 "nbformat_minor": 5
}
